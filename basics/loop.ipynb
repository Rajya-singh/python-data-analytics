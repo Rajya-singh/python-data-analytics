{
 "cells": [
  {
   "cell_type": "code",
   "execution_count": 2,
   "metadata": {},
   "outputs": [
    {
     "name": "stdout",
     "output_type": "stream",
     "text": [
      "10 100\n",
      "9 81\n",
      "8 64\n",
      "7 49\n",
      "6 36\n",
      "5 25\n",
      "4 16\n",
      "3 9\n",
      "2 4\n"
     ]
    }
   ],
   "source": [
    "i=int(input('enter a number:'))\n",
    "while i > 1:\n",
    "    print(i, i**2)\n",
    "    i -= 1"
   ]
  },
  {
   "cell_type": "code",
   "execution_count": 3,
   "metadata": {},
   "outputs": [
    {
     "name": "stdout",
     "output_type": "stream",
     "text": [
      "Enter a number divisible hy 7\n",
      "very good\n"
     ]
    }
   ],
   "source": [
    "print('Enter a number divisible hy 7')\n",
    "while int(input())%7!=0:\n",
    "    print('try again')\n",
    "print('very good')"
   ]
  },
  {
   "cell_type": "code",
   "execution_count": null,
   "metadata": {},
   "outputs": [],
   "source": []
  }
 ],
 "metadata": {
  "kernelspec": {
   "display_name": "base",
   "language": "python",
   "name": "python3"
  },
  "language_info": {
   "codemirror_mode": {
    "name": "ipython",
    "version": 3
   },
   "file_extension": ".py",
   "mimetype": "text/x-python",
   "name": "python",
   "nbconvert_exporter": "python",
   "pygments_lexer": "ipython3",
   "version": "3.11.5"
  }
 },
 "nbformat": 4,
 "nbformat_minor": 2
}
