{
 "cells": [
  {
   "cell_type": "markdown",
   "metadata": {},
   "source": [
    "## if\n"
   ]
  },
  {
   "cell_type": "code",
   "execution_count": 1,
   "metadata": {},
   "outputs": [
    {
     "name": "stdout",
     "output_type": "stream",
     "text": [
      "4\n",
      "Done.\n"
     ]
    }
   ],
   "source": [
    "x=input('Enter a word:')\n",
    "print(x)\n",
    "if len(x)>=5:\n",
    "    print('Your word is long enough.')\n",
    "print('Done.')\n"
   ]
  },
  {
   "cell_type": "code",
   "execution_count": 2,
   "metadata": {},
   "outputs": [
    {
     "name": "stdout",
     "output_type": "stream",
     "text": [
      "5656 is even\n"
     ]
    }
   ],
   "source": [
    "num=int(input('Enter a number:'))\n",
    "if num % 2 == 0:\n",
    "    print(f'{num} is even')\n",
    "else:\n",
    "    print(f'{num} is odd')"
   ]
  },
  {
   "cell_type": "markdown",
   "metadata": {},
   "source": [
    "### nested if-else"
   ]
  },
  {
   "cell_type": "code",
   "execution_count": 5,
   "metadata": {},
   "outputs": [
    {
     "name": "stdout",
     "output_type": "stream",
     "text": [
      "23 is smallaer then 100\n"
     ]
    }
   ],
   "source": [
    "x=input('enter a number')\n",
    "if x.isnumeric():\n",
    "    x=int(x)\n",
    "    if x > 100:\n",
    "        print(f'{x} is greater than 100')\n",
    "    else:\n",
    "        print(f'{x} is smallaer then 100')\n",
    "else:\n",
    "    print(f'{x} is not a mumber')"
   ]
  },
  {
   "cell_type": "markdown",
   "metadata": {},
   "source": [
    "## if elif ladder"
   ]
  },
  {
   "cell_type": "code",
   "execution_count": 8,
   "metadata": {},
   "outputs": [
    {
     "name": "stdout",
     "output_type": "stream",
     "text": [
      "wellcome to the my restaurant\n",
      "south indian dosa => 75.00 inr\n"
     ]
    }
   ],
   "source": [
    "print('wellcome to the my restaurant')\n",
    "dish=input ('enter the dish name:')\n",
    "if dish == 'dosa':\n",
    "    print('south indian dosa => 75.00 inr')\n",
    "elif dish == 'pizza':\n",
    "    print('italian pizza => 350.00 inr')\n",
    "elif dish == 'burger':\n",
    "    print('american burger => 150.00 inr')\n",
    "else:\n",
    "    print('sorry! we dont have that dish.')"
   ]
  },
  {
   "cell_type": "markdown",
   "metadata": {},
   "source": [
    "## match case (similar to switch case)"
   ]
  },
  {
   "cell_type": "code",
   "execution_count": 12,
   "metadata": {},
   "outputs": [
    {
     "name": "stdout",
     "output_type": "stream",
     "text": [
      "the menu:\n",
      "select a category\n",
      "1. indian\n",
      "2. italian\n",
      "3. american\n",
      "indian dishes\n",
      "1. dosa\n",
      "2. idli\n",
      "3. lasagna\n"
     ]
    }
   ],
   "source": [
    "print('the menu:')\n",
    "print('select a category\\n1. indian\\n2. italian\\n3. american')\n",
    "choice = int(input('enter a number from the menu:'))\n",
    "match choice:\n",
    "    case 1: print('indian dishes\\n1. dosa\\n2. idli\\n3. sambar')\n",
    "    case 2: print('indian dishes\\n1. dosa\\n2. idli\\n3. lasagna')\n",
    "    case 3: print('indian dishes\\n1. dosa\\n2. idli\\n3. fries')\n",
    "    case  _: print('invalid category')\n",
    "\n"
   ]
  },
  {
   "cell_type": "code",
   "execution_count": 18,
   "metadata": {},
   "outputs": [
    {
     "name": "stdout",
     "output_type": "stream",
     "text": [
      "the menu\n",
      "select a category\n",
      "-> indian\n",
      "-> italian\n",
      "-> american\n",
      "---> burger\n",
      "---> hot dog\n",
      "---> fries\n"
     ]
    }
   ],
   "source": [
    "indian = ['Dosa','idli','sanbar']\n",
    "italian = ['pizza','pasta','lasagnaa']\n",
    "american = ['burger','hot dog','fries']\n",
    "menu = ['indian','italian','american']\n",
    "print ('the menu')\n",
    "print('select a category')\n",
    "for choice in menu:\n",
    "    print(\"->\",choice)\n",
    "ch = input('select one:')\n",
    "# print(ch)\n",
    "match ch:\n",
    "    case 'indian':\n",
    "        for dish in indian: print('--->',dish)\n",
    "    case 'italian':\n",
    "        for dish in italian: print('--->',dish)\n",
    "    case 'chinese':\n",
    "        for dish in chinese: print('--->',dish)\n",
    "    case 'american':\n",
    "        for dish in american: print('--->',dish)\n",
    "    case _:\n",
    "        print('->>>>>invalid category<<<<<-') \n"
   ]
  },
  {
   "cell_type": "code",
   "execution_count": null,
   "metadata": {},
   "outputs": [],
   "source": []
  }
 ],
 "metadata": {
  "kernelspec": {
   "display_name": "base",
   "language": "python",
   "name": "python3"
  },
  "language_info": {
   "codemirror_mode": {
    "name": "ipython",
    "version": 3
   },
   "file_extension": ".py",
   "mimetype": "text/x-python",
   "name": "python",
   "nbconvert_exporter": "python",
   "pygments_lexer": "ipython3",
   "version": "3.11.5"
  }
 },
 "nbformat": 4,
 "nbformat_minor": 2
}
