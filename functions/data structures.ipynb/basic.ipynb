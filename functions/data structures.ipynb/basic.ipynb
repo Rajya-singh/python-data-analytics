{
 "cells": [
  {
   "cell_type": "markdown",
   "metadata": {},
   "source": [
    "### data structures \n",
    "- list\n",
    "    - mutable,ordered,duplicates allowed, list(),[]\n",
    "- tuple\n",
    "    - inmutable,oredered,duplicates allowed,tup(),[]\n",
    "- set\n",
    "    - mutable ,unordered,no duplicates (unique aliments),set(),{}\n",
    "- dictionary\n",
    "    - mutable,unordered,no duplicates keys(unique keys),diict(){k:v}\n"
   ]
  },
  {
   "cell_type": "markdown",
   "metadata": {},
   "source": [
    "### 1,cration"
   ]
  },
  {
   "cell_type": "markdown",
   "metadata": {},
   "source": []
  },
  {
   "cell_type": "code",
   "execution_count": 3,
   "metadata": {},
   "outputs": [
    {
     "name": "stdout",
     "output_type": "stream",
     "text": [
      "[10, 20, 'red', True, 3.14159, 10] <class 'list'>\n",
      "[10, 20, 'red', True, 3.14159, 10] <class 'tuple'>\n",
      "{1, 2, 3, 4} <class 'set'>\n",
      "{'title': 'samosa', 'price': 10, 'qty': 5} <class 'dict'>\n"
     ]
    }
   ],
   "source": [
    "x1=[10,20,'red',True, 3.14159,10]\n",
    "print(x1, type(x1))\n",
    "x2=(1,2,3,4,'apple')\n",
    "print(x1, type(x2))\n",
    "x3={1,2,3,4,2}\n",
    "print(x3,type(x3))\n",
    "x4={'title':'samosa','price':10,'qty':5}\n",
    "print(x4,type(x4))"
   ]
  },
  {
   "cell_type": "markdown",
   "metadata": {},
   "source": [
    "### 2.accessing elements"
   ]
  },
  {
   "cell_type": "code",
   "execution_count": 4,
   "metadata": {},
   "outputs": [
    {
     "name": "stdout",
     "output_type": "stream",
     "text": [
      "getting items from list\n",
      "first element: 10\n",
      "second element: 20\n",
      "third element: red\n",
      "last element: 10\n",
      "--------------------\n",
      "getting items from tuple\n",
      "first element: 1\n",
      "second element: 2\n",
      "third element: 3\n",
      "last element: apple\n",
      "--------------------\n",
      "geeting items from set\n",
      "🚫we cannot, as sets are unordered\n",
      "_ __ __ __ __ __ __ __ __ __ _\n",
      "title samosa\n",
      "price 10\n",
      "quantity 5\n"
     ]
    }
   ],
   "source": [
    "print('getting items from list')\n",
    "print('first element:',x1[0])\n",
    "print('second element:',x1[1])\n",
    "print('third element:',x1[2])\n",
    "print('last element:',x1[-1])\n",
    "print('--'*10)\n",
    "print('getting items from tuple')\n",
    "print('first element:',x2[0])\n",
    "print('second element:',x2[1])\n",
    "print('third element:',x2[2])\n",
    "print('last element:',x2[-1])\n",
    "print('--'*10)\n",
    "print('geeting items from set')\n",
    "print('🚫we cannot, as sets are unordered')\n",
    "print('_ _'*10)\n",
    "print('title',x4['title'])\n",
    "print('price',x4['price'])\n",
    "print('quantity',x4.get('qty')) # better way"
   ]
  },
  {
   "cell_type": "markdown",
   "metadata": {},
   "source": [
    "### updating elements"
   ]
  },
  {
   "cell_type": "code",
   "execution_count": 5,
   "metadata": {},
   "outputs": [
    {
     "name": "stdout",
     "output_type": "stream",
     "text": [
      "Changing values in list\n",
      "[100, 20, 'red', True, 3.14159, 10]\n",
      "[100, 20, 'red', True, 3.14159, 'yellow']\n",
      "_ __ __ __ __ __ __ __ __ __ _\n",
      "changing values  in tuple\n",
      "🚫we cannot,as tuples are immutable\n",
      "_ __ __ __ __ __ __ __ __ __ _\n",
      "changing values  in set\n",
      "🚫we cannot,as sets are immutable\n",
      "_ __ __ __ __ __ __ __ __ __ _\n",
      "changing value in dict\n",
      "{'title': 'samosa burger', 'price': 10, 'qty': 5}\n",
      "{'title': 'samosa burger', 'price': 50, 'qty': 5}\n"
     ]
    }
   ],
   "source": [
    "print('Changing values in list')\n",
    "x1[0]=100\n",
    "print(x1)\n",
    "x1[-1]= 'yellow'\n",
    "print(x1)\n",
    "print('_ _'*10)\n",
    "print('changing values  in tuple')\n",
    "print('🚫we cannot,as tuples are immutable')\n",
    "print('_ _'*10)\n",
    "print('changing values  in set')\n",
    "print('🚫we cannot,as sets are immutable')\n",
    "print('_ _'*10)\n",
    "print('changing value in dict')\n",
    "x4['title']='samosa burger'\n",
    "print(x4)\n",
    "x4['price']=50\n",
    "print(x4)"
   ]
  },
  {
   "cell_type": "code",
   "execution_count": null,
   "metadata": {},
   "outputs": [],
   "source": []
  }
 ],
 "metadata": {
  "kernelspec": {
   "display_name": "base",
   "language": "python",
   "name": "python3"
  },
  "language_info": {
   "codemirror_mode": {
    "name": "ipython",
    "version": 3
   },
   "file_extension": ".py",
   "mimetype": "text/x-python",
   "name": "python",
   "nbconvert_exporter": "python",
   "pygments_lexer": "ipython3",
   "version": "3.11.5"
  }
 },
 "nbformat": 4,
 "nbformat_minor": 2
}
