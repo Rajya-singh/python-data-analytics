{
 "cells": [
  {
   "cell_type": "markdown",
   "metadata": {},
   "source": [
    "### data structures \n",
    "- list\n",
    "    - mutable,ordered,duplicates allowed, list(),[]\n",
    "- tuple\n",
    "    - inmutable,oredered,duplicates allowed,tup(),[]\n",
    "- set\n",
    "    - mutable ,unordered,no duplicates (unique aliments),set(),{}\n",
    "- dictionary\n",
    "    - mutable,unordered,no duplicates keys(unique keys),diict(){k:v}\n"
   ]
  },
  {
   "cell_type": "markdown",
   "metadata": {},
   "source": [
    "### 1,cration"
   ]
  },
  {
   "cell_type": "markdown",
   "metadata": {},
   "source": []
  },
  {
   "cell_type": "code",
   "execution_count": 18,
   "metadata": {},
   "outputs": [
    {
     "name": "stdout",
     "output_type": "stream",
     "text": [
      "[10, 20, 'red', True, 3.14159, 10] <class 'list'>\n",
      "[10, 20, 'red', True, 3.14159, 10] <class 'tuple'>\n",
      "{1, 2, 3, 4} <class 'set'>\n",
      "{'title': 'samosa', 'price': 10, 'qty': 5} <class 'dict'>\n"
     ]
    }
   ],
   "source": [
    "x1=[10,20,'red',True, 3.14159,10]\n",
    "print(x1, type(x1))\n",
    "x2=(1,2,3,4,'apple')\n",
    "print(x1, type(x2))\n",
    "x3={1,2,3,4,2}\n",
    "print(x3,type(x3))\n",
    "x4={'title':'samosa','price':10,'qty':5}\n",
    "print(x4,type(x4))"
   ]
  },
  {
   "cell_type": "markdown",
   "metadata": {},
   "source": [
    "### 2.accessing elements"
   ]
  },
  {
   "cell_type": "code",
   "execution_count": 19,
   "metadata": {},
   "outputs": [
    {
     "name": "stdout",
     "output_type": "stream",
     "text": [
      "getting items from list\n",
      "first element: 10\n",
      "second element: 20\n",
      "third element: red\n",
      "last element: 10\n",
      "--------------------\n",
      "getting items from tuple\n",
      "first element: 1\n",
      "second element: 2\n",
      "third element: 3\n",
      "last element: apple\n",
      "--------------------\n",
      "geeting items from set\n",
      "🚫we cannot, as sets are unordered\n",
      "_ __ __ __ __ __ __ __ __ __ _\n",
      "title samosa\n",
      "price 10\n",
      "quantity 5\n"
     ]
    }
   ],
   "source": [
    "print('getting items from list')\n",
    "print('first element:',x1[0])\n",
    "print('second element:',x1[1])\n",
    "print('third element:',x1[2])\n",
    "print('last element:',x1[-1])\n",
    "print('--'*10)\n",
    "print('getting items from tuple')\n",
    "print('first element:',x2[0])\n",
    "print('second element:',x2[1])\n",
    "print('third element:',x2[2])\n",
    "print('last element:',x2[-1])\n",
    "print('--'*10)\n",
    "print('geeting items from set')\n",
    "print('🚫we cannot, as sets are unordered')\n",
    "print('_ _'*10)\n",
    "print('title',x4['title'])\n",
    "print('price',x4['price'])\n",
    "print('quantity',x4.get('qty')) # better way"
   ]
  },
  {
   "cell_type": "markdown",
   "metadata": {},
   "source": [
    "### updating elements"
   ]
  },
  {
   "cell_type": "code",
   "execution_count": 20,
   "metadata": {},
   "outputs": [
    {
     "name": "stdout",
     "output_type": "stream",
     "text": [
      "Changing values in list\n",
      "[100, 20, 'red', True, 3.14159, 10]\n",
      "[100, 20, 'red', True, 3.14159, 'yellow']\n",
      "_ __ __ __ __ __ __ __ __ __ _\n",
      "changing values  in tuple\n",
      "🚫we cannot,as tuples are immutable\n",
      "_ __ __ __ __ __ __ __ __ __ _\n",
      "changing values  in set\n",
      "🚫we cannot,as sets are immutable\n",
      "_ __ __ __ __ __ __ __ __ __ _\n",
      "changing value in dict\n",
      "{'title': 'samosa burger', 'price': 10, 'qty': 5}\n",
      "{'title': 'samosa burger', 'price': 50, 'qty': 5}\n"
     ]
    }
   ],
   "source": [
    "print('Changing values in list')\n",
    "x1[0]=100\n",
    "print(x1)\n",
    "x1[-1]= 'yellow'\n",
    "print(x1)\n",
    "print('_ _'*10)\n",
    "print('changing values  in tuple')\n",
    "print('🚫we cannot,as tuples are immutable')\n",
    "print('_ _'*10)\n",
    "print('changing values  in set')\n",
    "print('🚫we cannot,as sets are immutable')\n",
    "print('_ _'*10)\n",
    "print('changing value in dict')\n",
    "x4['title']='samosa burger'\n",
    "print(x4)\n",
    "x4['price']=50\n",
    "print(x4)"
   ]
  },
  {
   "cell_type": "code",
   "execution_count": 21,
   "metadata": {},
   "outputs": [
    {
     "name": "stdout",
     "output_type": "stream",
     "text": [
      "[1, 2, 3, 10]\n",
      "[1, 100, 2, 3, 10]\n"
     ]
    }
   ],
   "source": [
    "# list\n",
    "x=[1,2,3]\n",
    "x.append(10)\n",
    "print(x)\n",
    "# [1,2,3,4]\n",
    "x.insert(1,100)\n",
    "print(x)"
   ]
  },
  {
   "cell_type": "code",
   "execution_count": 22,
   "metadata": {},
   "outputs": [
    {
     "name": "stdout",
     "output_type": "stream",
     "text": [
      "{'dragonfurit', 'cherry', 'apple', 'banana'}\n"
     ]
    }
   ],
   "source": [
    "# set\n",
    "a={'apple','banana','cherry'}\n",
    "a.add('dragonfurit')\n",
    "print(a)"
   ]
  },
  {
   "cell_type": "code",
   "execution_count": 23,
   "metadata": {},
   "outputs": [
    {
     "name": "stdout",
     "output_type": "stream",
     "text": [
      "{'name': 'ranu', 'school': 'cms'}\n"
     ]
    }
   ],
   "source": [
    "# dict\n",
    "b={'name':'ranu'}\n",
    "b['school']='cms'#adding key and value\n",
    "print(b)"
   ]
  },
  {
   "cell_type": "markdown",
   "metadata": {},
   "source": [
    "## 5.Removeing Elements"
   ]
  },
  {
   "cell_type": "code",
   "execution_count": 24,
   "metadata": {},
   "outputs": [
    {
     "name": "stdout",
     "output_type": "stream",
     "text": [
      "[1, 100, 2, 3, 10]\n",
      "[1, 2, 3, 10]\n",
      "[2, 3, 10]\n",
      "[2, 3]\n"
     ]
    }
   ],
   "source": [
    "print(x)\n",
    "x.remove(100) # will value 100 from list\n",
    "print(x)\n",
    "x.pop(0) # will remove the value at index 0\n",
    "print(x)\n",
    "x.pop() # will remove the last value\n",
    "print(x)"
   ]
  },
  {
   "cell_type": "code",
   "execution_count": 25,
   "metadata": {},
   "outputs": [
    {
     "name": "stdout",
     "output_type": "stream",
     "text": [
      "{'dragonfurit', 'cherry', 'apple', 'banana'}\n",
      "{'dragonfurit', 'cherry', 'banana'}\n",
      "{'name': 'ranu', 'school': 'cms'}\n"
     ]
    }
   ],
   "source": [
    "# set  \n",
    "print(a)\n",
    "a.discard('apple') #better -> doesnot give error \n",
    "print(a)\n",
    "a.remove('banana')\n",
    "print(b)\n"
   ]
  },
  {
   "cell_type": "code",
   "execution_count": 26,
   "metadata": {},
   "outputs": [
    {
     "name": "stdout",
     "output_type": "stream",
     "text": [
      "{'name': 'ranu'}\n"
     ]
    }
   ],
   "source": [
    "# dict\n",
    "b.pop('school')\n",
    "print(b)"
   ]
  },
  {
   "cell_type": "markdown",
   "metadata": {},
   "source": [
    "1. create a list of 10 movies, each movie will be added by user\n",
    "2. create a tuple of 10 random numbers\n",
    "3. create 2 sets of flowers with 10 items each. crreate empty set as f1=set(),then add data \n",
    "4. create a dictionary for storing employee data, there should be 8 deys and valuse\n"
   ]
  },
  {
   "cell_type": "code",
   "execution_count": 29,
   "metadata": {},
   "outputs": [
    {
     "name": "stdout",
     "output_type": "stream",
     "text": [
      "{'worng_turn', 'Lily', 'Daisy', 'Daffodil', 'Orchid', 'Carnation', 'Tulip', 'Peony', 'Hibiscus', 'Sunflower'}\n",
      "{'Lavender', 'Marigold', 'Gerbera', 'Chrysanthemum', 'Poppy', 'Iris', 'Pansy', 'Dahlia', 'Bougainvillea', 'Hydrangea'}\n",
      "{'worng_turn', 'Lily', 'Daisy', 'Daffodil', 'Orchid', 'Carnation', 'Tulip', 'Peony', 'Hibiscus', 'Sunflower'}\n"
     ]
    }
   ],
   "source": [
    "flowers_set1 = {\"worng_turn\", \"Lily\", \"Tulip\", \"Daisy\", \"Sunflower\", \"Orchid\", \"Carnation\", \"Daffodil\", \"Hibiscus\", \"Peony\"}\n",
    "flowers_set2 = {\"Lavender\", \"Chrysanthemum\", \"Gerbera\", \"Poppy\", \"Marigold\", \"Dahlia\", \"Iris\", \"Hydrangea\", \"Pansy\", \"Bougainvillea\"}\n",
    "f1 = set()\n",
    "f1.update(flowers_set1)\n",
    "print(flowers_set1)\n",
    "print(flowers_set2)\n",
    "print(f1)"
   ]
  },
  {
   "cell_type": "code",
   "execution_count": 32,
   "metadata": {},
   "outputs": [
    {
     "name": "stdout",
     "output_type": "stream",
     "text": [
      "['rrr', 'jkjfijij', 'dfd', 'fegr', 'rtfa', 'hh', 'rrff', 'fgs', 'fdfd', 'ghgh']\n"
     ]
    }
   ],
   "source": [
    "movies=[]\n",
    "for i in range(10):\n",
    "    name=input('enter a movie=>')\n",
    "    movies.append(name)\n",
    "print(movies)"
   ]
  },
  {
   "cell_type": "code",
   "execution_count": 33,
   "metadata": {},
   "outputs": [
    {
     "name": "stdout",
     "output_type": "stream",
     "text": [
      "(1, 2, 3, 4, 5, 6, 7, 8, 9, 25)\n"
     ]
    }
   ],
   "source": [
    "t=(1,2,3,4,5,6,7,8,9,25)\n",
    "print(t)"
   ]
  },
  {
   "cell_type": "code",
   "execution_count": 34,
   "metadata": {},
   "outputs": [],
   "source": [
    "f1=set()\n",
    "f1.add('dahalia')\n",
    "f1.add('lotus')\n",
    "f1.add('rose')\n",
    "f1.add('lily')\n",
    "f1.add('lavender')\n",
    "f1.add('sunflower')\n",
    "f1.add('marigold')\n",
    "f1.add('daisy')\n",
    "f1.add('tulip')\n"
   ]
  },
  {
   "cell_type": "code",
   "execution_count": null,
   "metadata": {},
   "outputs": [],
   "source": []
  }
 ],
 "metadata": {
  "kernelspec": {
   "display_name": "base",
   "language": "python",
   "name": "python3"
  },
  "language_info": {
   "codemirror_mode": {
    "name": "ipython",
    "version": 3
   },
   "file_extension": ".py",
   "mimetype": "text/x-python",
   "name": "python",
   "nbconvert_exporter": "python",
   "pygments_lexer": "ipython3",
   "version": "3.11.5"
  }
 },
 "nbformat": 4,
 "nbformat_minor": 2
}
