{
 "cells": [
  {
   "cell_type": "markdown",
   "metadata": {},
   "source": [
    "## function styles in python based on parameters\n"
   ]
  },
  {
   "cell_type": "code",
   "execution_count": null,
   "metadata": {},
   "outputs": [],
   "source": [
    "def multi(a,b):\n",
    "    return a*b"
   ]
  },
  {
   "cell_type": "code",
   "execution_count": null,
   "metadata": {},
   "outputs": [],
   "source": [
    "multi(10,20) # positional orguments"
   ]
  },
  {
   "cell_type": "code",
   "execution_count": null,
   "metadata": {},
   "outputs": [],
   "source": [
    "multi(a=10,b=20) #keyword orguments"
   ]
  },
  {
   "cell_type": "code",
   "execution_count": null,
   "metadata": {},
   "outputs": [],
   "source": [
    "def si (p,r,t): # requierd orguments\n",
    "    return p*r*t/100"
   ]
  },
  {
   "cell_type": "code",
   "execution_count": null,
   "metadata": {},
   "outputs": [],
   "source": [
    "ans =si(10000,3.5,5) #works fine\n",
    "print(ans)\n",
    "# rule postinoal orguments first then keyword orguments\n",
    "ans=si(12000,t=5,r=3.5)# mixeed style\n",
    "print(ans)\n",
    "# all keyword arguments\n",
    "ans = si(p=15000,t=5,r=3.5)\n",
    "print(ans)"
   ]
  },
  {
   "cell_type": "code",
   "execution_count": null,
   "metadata": {},
   "outputs": [],
   "source": [
    "def generate_cards():\n",
    "    symbol =['♠️','♥️','♦️','♣️']\n",
    "    cards=[]\n",
    "    for s in symbol:\n",
    "        for i in list(range(2,11))+['j','q','k','a']:\n",
    "            cards.append(f'{s}{i}')\n",
    "    return cards\n",
    "generate_cards()\n",
    "\n"
   ]
  },
  {
   "cell_type": "code",
   "execution_count": null,
   "metadata": {},
   "outputs": [],
   "source": [
    "generate_cards()"
   ]
  },
  {
   "cell_type": "code",
   "execution_count": 32,
   "metadata": {},
   "outputs": [],
   "source": [
    "from random import sample\n",
    "\n",
    "def distribute(size=15):\n",
    "    return sample(generate_cards() ,size)\n",
    "\n",
    "    \n"
   ]
  },
  {
   "cell_type": "code",
   "execution_count": 30,
   "metadata": {},
   "outputs": [
    {
     "data": {
      "text/plain": [
       "['♥️6', '♣️9', '♣️10', '♦️k', '♣️j']"
      ]
     },
     "execution_count": 30,
     "metadata": {},
     "output_type": "execute_result"
    }
   ],
   "source": [
    "distribute()"
   ]
  },
  {
   "cell_type": "code",
   "execution_count": 33,
   "metadata": {},
   "outputs": [
    {
     "name": "stdout",
     "output_type": "stream",
     "text": [
      "😊shivan have  ['♠️3', '♦️j', '♠️7', '♥️5', '♦️5', '♥️a', '♣️9', '♣️7', '♠️9', '♣️5', '♣️a', '♣️2', '♦️a', '♠️4', '♥️j']\n",
      "😊harsh have  ['♣️q', '♥️j', '♣️9', '♦️6', '♠️2', '♣️j', '♣️8', '♥️10', '♦️8', '♠️10', '♦️q', '♦️j', '♣️3', '♣️a', '♠️5']\n",
      "😊vansh have  ['♣️8', '♠️j', '♥️10', '♠️7', '♦️k', '♠️2', '♠️k', '♦️2', '♦️q', '♦️j', '♠️a', '♣️9', '♥️8', '♣️7', '♣️j']\n",
      "😊amita have  ['♠️3', '♦️2', '♣️2', '♥️7', '♦️q', '♥️5', '♣️9', '♥️j', '♦️j', '♥️6', '♥️8', '♦️10', '♠️a', '♣️q', '♥️10']\n"
     ]
    }
   ],
   "source": [
    "names=['shivan','harsh','vansh','amita']\n",
    "for name in names:\n",
    "    print(f'😊{name} have  {distribute()}')"
   ]
  },
  {
   "cell_type": "code",
   "execution_count": 35,
   "metadata": {},
   "outputs": [
    {
     "name": "stdout",
     "output_type": "stream",
     "text": [
      "36\n",
      "68918850\n",
      "1\n",
      "256\n"
     ]
    }
   ],
   "source": [
    "# variable length orguments\n",
    "def multi(*nums):\n",
    "    temp=1\n",
    "    for n in nums:\n",
    "        temp *=n\n",
    "    return temp\n",
    "\n",
    "# 2*3*6\n",
    "print(multi(2,3,6))\n",
    "print(multi(2,3,5,7,9,11,13,15,17))\n",
    "print(multi())\n",
    "print(multi(2,2,2,2,2,2,2,2))\n",
    "\n"
   ]
  },
  {
   "cell_type": "code",
   "execution_count": 39,
   "metadata": {},
   "outputs": [],
   "source": [
    "# keyword variable length orguments\n",
    "def purchase(**products):\n",
    "    total=0\n",
    "    for name,value in products.items():\n",
    "        print(f'🛒{name:10}{value:.2f}')\n",
    "        total += value\n",
    "    print('-'*20)\n",
    "    print(f'💵 total amount{total}')"
   ]
  },
  {
   "cell_type": "code",
   "execution_count": 40,
   "metadata": {},
   "outputs": [
    {
     "name": "stdout",
     "output_type": "stream",
     "text": [
      "🛒shoes     2000.00\n",
      "🛒suit      5000.00\n",
      "🛒watch     3000.00\n",
      "🛒shirt     1000.00\n",
      "--------------------\n",
      "💵 total amount11000\n"
     ]
    }
   ],
   "source": [
    "purchase(shoes=2000,suit=5000,watch=3000,shirt=1000)"
   ]
  },
  {
   "cell_type": "code",
   "execution_count": 41,
   "metadata": {},
   "outputs": [],
   "source": [
    "f=lambda x: x**2+x+1"
   ]
  },
  {
   "cell_type": "code",
   "execution_count": 42,
   "metadata": {},
   "outputs": [],
   "source": [
    "g=lambda s,y: x**2 +y**2 + 2*x*y"
   ]
  },
  {
   "cell_type": "code",
   "execution_count": 43,
   "metadata": {},
   "outputs": [
    {
     "name": "stdout",
     "output_type": "stream",
     "text": [
      "111 421\n"
     ]
    },
    {
     "ename": "NameError",
     "evalue": "name 'x' is not defined",
     "output_type": "error",
     "traceback": [
      "\u001b[1;31m---------------------------------------------------------------------------\u001b[0m",
      "\u001b[1;31mNameError\u001b[0m                                 Traceback (most recent call last)",
      "Cell \u001b[1;32mIn[43], line 2\u001b[0m\n\u001b[0;32m      1\u001b[0m \u001b[38;5;28mprint\u001b[39m(f(\u001b[38;5;241m10\u001b[39m),f(\u001b[38;5;241m20\u001b[39m))\n\u001b[1;32m----> 2\u001b[0m \u001b[38;5;28mprint\u001b[39m(g(\u001b[38;5;241m10\u001b[39m,\u001b[38;5;241m20\u001b[39m))\n\u001b[0;32m      3\u001b[0m \u001b[38;5;28mprint\u001b[39m(g(\u001b[38;5;241m1711\u001b[39m,\u001b[38;5;241m2217\u001b[39m))\n",
      "Cell \u001b[1;32mIn[42], line 1\u001b[0m, in \u001b[0;36m<lambda>\u001b[1;34m(s, y)\u001b[0m\n\u001b[1;32m----> 1\u001b[0m g\u001b[38;5;241m=\u001b[39m\u001b[38;5;28;01mlambda\u001b[39;00m s,y: x\u001b[38;5;241m*\u001b[39m\u001b[38;5;241m*\u001b[39m\u001b[38;5;241m2\u001b[39m \u001b[38;5;241m+\u001b[39my\u001b[38;5;241m*\u001b[39m\u001b[38;5;241m*\u001b[39m\u001b[38;5;241m2\u001b[39m \u001b[38;5;241m+\u001b[39m \u001b[38;5;241m2\u001b[39m\u001b[38;5;241m*\u001b[39mx\u001b[38;5;241m*\u001b[39my\n",
      "\u001b[1;31mNameError\u001b[0m: name 'x' is not defined"
     ]
    }
   ],
   "source": [
    "print(f(10),f(20))\n",
    "print(g(10,20))\n",
    "print(g(1711,2217))\n"
   ]
  },
  {
   "cell_type": "code",
   "execution_count": null,
   "metadata": {},
   "outputs": [],
   "source": []
  }
 ],
 "metadata": {
  "kernelspec": {
   "display_name": "base",
   "language": "python",
   "name": "python3"
  },
  "language_info": {
   "codemirror_mode": {
    "name": "ipython",
    "version": 3
   },
   "file_extension": ".py",
   "mimetype": "text/x-python",
   "name": "python",
   "nbconvert_exporter": "python",
   "pygments_lexer": "ipython3",
   "version": "3.11.5"
  }
 },
 "nbformat": 4,
 "nbformat_minor": 2
}
