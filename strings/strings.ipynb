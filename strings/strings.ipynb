{
 "cells": [
  {
   "cell_type": "code",
   "execution_count": 1,
   "metadata": {},
   "outputs": [
    {
     "name": "stdout",
     "output_type": "stream",
     "text": [
      "appple banana chocolate and vanilla\n",
      "banana\n",
      "chocolate and vanilla\n"
     ]
    }
   ],
   "source": [
    "a='appple'\n",
    "b='banana'\n",
    "c='''chocolate and vanilla'''\n",
    "print(a)\n",
    "print(b)\n",
    "print(c)\n"
   ]
  },
  {
   "cell_type": "code",
   "execution_count": 4,
   "metadata": {},
   "outputs": [
    {
     "name": "stdout",
     "output_type": "stream",
     "text": [
      "raj raj raj raj raj raj raj raj raj raj \n"
     ]
    }
   ],
   "source": [
    "d=1.2564\n",
    "d=str(d) # convert to string\n",
    "# string duplication\n",
    "e='raj '*10 # string duplication\n",
    "print(e)\n"
   ]
  },
  {
   "cell_type": "code",
   "execution_count": 8,
   "metadata": {},
   "outputs": [
    {
     "data": {
      "text/plain": [
       "'hello🤷'"
      ]
     },
     "execution_count": 8,
     "metadata": {},
     "output_type": "execute_result"
    }
   ],
   "source": [
    "'he'+'ll'+'o'+'🤷'"
   ]
  },
  {
   "cell_type": "markdown",
   "metadata": {},
   "source": [
    "## indexing"
   ]
  },
  {
   "cell_type": "code",
   "execution_count": 14,
   "metadata": {},
   "outputs": [
    {
     "name": "stdout",
     "output_type": "stream",
     "text": [
      "11\n",
      "l\n",
      "l\n",
      "i\n",
      "y\n",
      "h\n"
     ]
    }
   ],
   "source": [
    "a='calligraphy' # string indexing\n",
    "print(len(a))\n",
    "print(a[2])\n",
    "print(a[3])\n",
    "print(a[4])\n",
    "print(a[10])\n",
    "print(a[9])\n",
    "\n",
    "\n"
   ]
  },
  {
   "cell_type": "markdown",
   "metadata": {},
   "source": [
    "#### note: revers loop in python using range()"
   ]
  },
  {
   "cell_type": "code",
   "execution_count": 13,
   "metadata": {},
   "outputs": [
    {
     "name": "stdout",
     "output_type": "stream",
     "text": [
      "10 y\n",
      "9 h\n",
      "8 p\n",
      "7 a\n",
      "6 r\n",
      "5 g\n",
      "4 i\n",
      "3 l\n",
      "2 l\n",
      "1 a\n"
     ]
    }
   ],
   "source": [
    "for i in range(10,0,-1):\n",
    "    print(i, a[i])"
   ]
  },
  {
   "cell_type": "code",
   "execution_count": 15,
   "metadata": {},
   "outputs": [
    {
     "name": "stdout",
     "output_type": "stream",
     "text": [
      "r a j  \n",
      "raj \n",
      "vardha\n"
     ]
    }
   ],
   "source": [
    "b='raj vardhan singh'\n",
    "print(b[0],b[1],b[2],b[3]) #slow and boring\n",
    "#slicing\n",
    "print(b[0:4])\n",
    "print(b[4:10])"
   ]
  },
  {
   "cell_type": "code",
   "execution_count": 20,
   "metadata": {},
   "outputs": [
    {
     "name": "stdout",
     "output_type": "stream",
     "text": [
      "vijay \n",
      "deenanat\n",
      "chauhan\n"
     ]
    }
   ],
   "source": [
    "name='vijay deenanath chauhan'\n",
    "print(name[0:6])\n",
    "print(name[6:14])\n",
    "print(name[16:23])"
   ]
  },
  {
   "cell_type": "code",
   "execution_count": 22,
   "metadata": {},
   "outputs": [
    {
     "name": "stdout",
     "output_type": "stream",
     "text": [
      "vijay\n",
      "deenanath\n",
      "chauhan\n"
     ]
    }
   ],
   "source": [
    "name='vijay deenanath chauhan'\n",
    "print(name[:5])\n",
    "print(name[6:-8])\n",
    "print(name[-7:])"
   ]
  },
  {
   "cell_type": "code",
   "execution_count": 23,
   "metadata": {},
   "outputs": [
    {
     "name": "stdout",
     "output_type": "stream",
     "text": [
      "nahuahc htananeed yajiv\n"
     ]
    }
   ],
   "source": [
    "# reverse a string\n",
    "print(name[::-1])"
   ]
  },
  {
   "cell_type": "code",
   "execution_count": 24,
   "metadata": {},
   "outputs": [
    {
     "name": "stdout",
     "output_type": "stream",
     "text": [
      "10000\n"
     ]
    }
   ],
   "source": [
    "amount = '$10000'\n",
    "amount = int(amount[1:])\n",
    "print(amount)"
   ]
  },
  {
   "cell_type": "code",
   "execution_count": 1,
   "metadata": {},
   "outputs": [
    {
     "name": "stdout",
     "output_type": "stream",
     "text": [
      "['mango', 'orange', 'banana', 'gawava']\n"
     ]
    }
   ],
   "source": [
    "fruit=['mango','orange','banana','gawava']\n",
    "print(fruit)"
   ]
  },
  {
   "cell_type": "code",
   "execution_count": 3,
   "metadata": {},
   "outputs": [
    {
     "name": "stdout",
     "output_type": "stream",
     "text": [
      "ankit and arpit and harshit and papa mammy\n"
     ]
    }
   ],
   "source": [
    "family='ankit and arpit and harshit and papa mammy'\n",
    "print(family)"
   ]
  },
  {
   "cell_type": "code",
   "execution_count": null,
   "metadata": {},
   "outputs": [],
   "source": []
  }
 ],
 "metadata": {
  "kernelspec": {
   "display_name": "base",
   "language": "python",
   "name": "python3"
  },
  "language_info": {
   "codemirror_mode": {
    "name": "ipython",
    "version": 3
   },
   "file_extension": ".py",
   "mimetype": "text/x-python",
   "name": "python",
   "nbconvert_exporter": "python",
   "pygments_lexer": "ipython3",
   "version": "3.11.5"
  }
 },
 "nbformat": 4,
 "nbformat_minor": 2
}
