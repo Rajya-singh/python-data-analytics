{
 "cells": [
  {
   "cell_type": "code",
   "execution_count": 1,
   "metadata": {},
   "outputs": [
    {
     "name": "stdout",
     "output_type": "stream",
     "text": [
      "rajvardhan\n"
     ]
    }
   ],
   "source": [
    "a=\"rajvardhan\"\n",
    "print(a)\n"
   ]
  },
  {
   "cell_type": "code",
   "execution_count": 3,
   "metadata": {},
   "outputs": [
    {
     "data": {
      "text/plain": [
       "2"
      ]
     },
     "execution_count": 3,
     "metadata": {},
     "output_type": "execute_result"
    }
   ],
   "source": [
    "a=input('enter a string')\n",
    "len(input())\n"
   ]
  },
  {
   "cell_type": "code",
   "execution_count": 4,
   "metadata": {},
   "outputs": [
    {
     "data": {
      "text/plain": [
       "['python', 'is', 'great']"
      ]
     },
     "execution_count": 4,
     "metadata": {},
     "output_type": "execute_result"
    }
   ],
   "source": [
    "sentence='python is great'\n",
    "sentence.split()\n"
   ]
  },
  {
   "cell_type": "code",
   "execution_count": 5,
   "metadata": {},
   "outputs": [
    {
     "data": {
      "text/plain": [
       "'great'"
      ]
     },
     "execution_count": 5,
     "metadata": {},
     "output_type": "execute_result"
    }
   ],
   "source": [
    "sentence='python is great'\n",
    "sentence.split()[-1]"
   ]
  },
  {
   "cell_type": "code",
   "execution_count": 8,
   "metadata": {},
   "outputs": [
    {
     "data": {
      "text/plain": [
       "'laxman'"
      ]
     },
     "execution_count": 8,
     "metadata": {},
     "output_type": "execute_result"
    }
   ],
   "source": [
    "sentence='ram shyam laxman'\n",
    "sentence.split()[-1]"
   ]
  },
  {
   "cell_type": "code",
   "execution_count": 11,
   "metadata": {},
   "outputs": [
    {
     "name": "stdout",
     "output_type": "stream",
     "text": [
      "python\n",
      "is\n",
      "everywhere\n"
     ]
    }
   ],
   "source": [
    "sentence='python is everywhere'\n",
    "sentence\n",
    "for word in sentence.split():\n",
    "    print(word)"
   ]
  },
  {
   "cell_type": "code",
   "execution_count": 14,
   "metadata": {},
   "outputs": [
    {
     "name": "stdout",
     "output_type": "stream",
     "text": [
      "hello word\n"
     ]
    },
    {
     "data": {
      "text/plain": [
       "'everywhere'"
      ]
     },
     "execution_count": 14,
     "metadata": {},
     "output_type": "execute_result"
    }
   ],
   "source": [
    "a='hello word'\n",
    "print(a)\n",
    "sentence.split()[-1]\n"
   ]
  },
  {
   "cell_type": "code",
   "execution_count": 19,
   "metadata": {},
   "outputs": [
    {
     "name": "stdout",
     "output_type": "stream",
     "text": [
      "HOW ARE YOU?\n",
      "how are you?\n",
      "How are you?\n",
      "How Are You?\n",
      "HOW ARE YOU?\n",
      "how are you?\n"
     ]
    }
   ],
   "source": [
    "msg='how are you?'\n",
    "print(msg.upper())\n",
    "print(msg.lower())\n",
    "print(msg.capitalize())\n",
    "print(msg.title())\n",
    "print(msg.swapcase())\n",
    "print(msg)"
   ]
  },
  {
   "cell_type": "code",
   "execution_count": 21,
   "metadata": {},
   "outputs": [
    {
     "name": "stdout",
     "output_type": "stream",
     "text": [
      "how it is going\n"
     ]
    }
   ],
   "source": [
    "msg='how it is going'\n",
    "print(msg.lower())\n",
    "\n"
   ]
  },
  {
   "cell_type": "code",
   "execution_count": 22,
   "metadata": {},
   "outputs": [
    {
     "data": {
      "text/plain": [
       "'python is easy to learn'"
      ]
     },
     "execution_count": 22,
     "metadata": {},
     "output_type": "execute_result"
    }
   ],
   "source": [
    "word=['python','is','easy','to','learn']\n",
    "' '.join(word)\n"
   ]
  },
  {
   "cell_type": "code",
   "execution_count": 23,
   "metadata": {},
   "outputs": [
    {
     "data": {
      "text/plain": [
       "'python+is+easy+to+learn'"
      ]
     },
     "execution_count": 23,
     "metadata": {},
     "output_type": "execute_result"
    }
   ],
   "source": [
    "word=['python','is','easy','to','learn']\n",
    "'+'.join(word)\n"
   ]
  },
  {
   "cell_type": "code",
   "execution_count": 24,
   "metadata": {},
   "outputs": [
    {
     "name": "stdout",
     "output_type": "stream",
     "text": [
      "python is easy to learn\n"
     ]
    }
   ],
   "source": [
    "word=['python','is','easy','to','learn']\n",
    "sentence=' '.join(word)\n",
    "print(sentence)"
   ]
  },
  {
   "cell_type": "markdown",
   "metadata": {},
   "source": [
    "#### print a multiline useing a single"
   ]
  },
  {
   "cell_type": "code",
   "execution_count": 26,
   "metadata": {},
   "outputs": [
    {
     "name": "stdout",
     "output_type": "stream",
     "text": [
      "this is a story,\n",
      " where we are learning python,\n",
      " and you are just watching us\n",
      "\n"
     ]
    }
   ],
   "source": [
    "print('''this is a story,\n",
    " where we are learning python,\n",
    " and you are just watching us\n",
    "''')\n",
    "\n"
   ]
  },
  {
   "cell_type": "code",
   "execution_count": 27,
   "metadata": {},
   "outputs": [
    {
     "name": "stdout",
     "output_type": "stream",
     "text": [
      "to move to newline'\\n' is used.\n"
     ]
    }
   ],
   "source": [
    "sentence=\"to move to newline'\\\\n' is used.\"\n",
    "print(sentence)"
   ]
  },
  {
   "cell_type": "code",
   "execution_count": 8,
   "metadata": {},
   "outputs": [
    {
     "name": "stdout",
     "output_type": "stream",
     "text": [
      "to move to newline '\n",
      "' is used.\n"
     ]
    }
   ],
   "source": [
    "r=(\"to move to newline '\\n' is used.\")\n",
    "print(r)\n"
   ]
  },
  {
   "cell_type": "code",
   "execution_count": 29,
   "metadata": {},
   "outputs": [
    {
     "name": "stdout",
     "output_type": "stream",
     "text": [
      "python is great.\n"
     ]
    }
   ],
   "source": [
    "s1='python'\n",
    "s2='is'\n",
    "s3='great.'\n",
    "ans=s1 +' '+s2 +' '+s3\n",
    "print(ans)"
   ]
  },
  {
   "cell_type": "code",
   "execution_count": 31,
   "metadata": {},
   "outputs": [
    {
     "name": "stdout",
     "output_type": "stream",
     "text": [
      "####################\n"
     ]
    }
   ],
   "source": [
    "print('#'*20)"
   ]
  },
  {
   "cell_type": "code",
   "execution_count": 33,
   "metadata": {},
   "outputs": [
    {
     "name": "stdout",
     "output_type": "stream",
     "text": [
      "1.\n",
      "2.\n",
      "3.\n",
      "4.\n",
      "5.\n",
      "6.\n",
      "7.\n",
      "8.\n",
      "9.\n"
     ]
    }
   ],
   "source": [
    "for i in range(1,10):\n",
    "    print(f'{i}.')\n"
   ]
  },
  {
   "cell_type": "markdown",
   "metadata": {},
   "source": [
    "### important methods"
   ]
  },
  {
   "cell_type": "code",
   "execution_count": 1,
   "metadata": {},
   "outputs": [
    {
     "name": "stdout",
     "output_type": "stream",
     "text": [
      "Once upon a time, there was a king. and the king was old,there was king. and the king was old,there was no time for the king\n"
     ]
    }
   ],
   "source": [
    "msg='Once upon a time, there was a king. and the king was old,there was king. and the king was old,there was no time for the king'\n",
    "print(msg)\n",
    "\n"
   ]
  },
  {
   "cell_type": "code",
   "execution_count": 3,
   "metadata": {},
   "outputs": [
    {
     "name": "stdout",
     "output_type": "stream",
     "text": [
      "time was found at12\n",
      "time was found at107\n",
      "time was found at-1\n"
     ]
    }
   ],
   "source": [
    "idx= msg.find('time')\n",
    "print(f'time was found at{idx}')\n",
    "idx2=msg.find('time',idx+1)\n",
    "print(f'time was found at{idx2}')\n",
    "idx3=msg.find('time',idx2+1)\n",
    "print(f'time was found at{idx3}')"
   ]
  },
  {
   "cell_type": "code",
   "execution_count": 4,
   "metadata": {},
   "outputs": [
    {
     "name": "stdout",
     "output_type": "stream",
     "text": [
      "Once upon a time, there was a queen. and the queen was old,there was queen. and the queen was old,there was no time for the queen\n"
     ]
    }
   ],
   "source": [
    "print(msg.replace('king','queen'))"
   ]
  },
  {
   "cell_type": "code",
   "execution_count": 7,
   "metadata": {},
   "outputs": [
    {
     "name": "stdout",
     "output_type": "stream",
     "text": [
      "Once upon a time, there were a king. and the king were old,there were king. and the king were old,there were no time for the king\n",
      "Once upon a time, there was a king. at the king was old,there was king. at the king was old,there was no time for the king\n"
     ]
    }
   ],
   "source": [
    "print(msg.replace('was','were'))\n",
    "print(msg.replace('and','at'))"
   ]
  },
  {
   "cell_type": "code",
   "execution_count": 9,
   "metadata": {},
   "outputs": [],
   "source": [
    "msg2=msg.replace('time','year',1).replace('old','young')"
   ]
  },
  {
   "cell_type": "code",
   "execution_count": 12,
   "metadata": {},
   "outputs": [
    {
     "name": "stdout",
     "output_type": "stream",
     "text": [
      "23\n",
      "apple and bananas 17\n"
     ]
    }
   ],
   "source": [
    "dirty_data='  apple and bananas    '\n",
    "print(len(dirty_data))\n",
    "clean_data=dirty_data.strip()\n",
    "print(clean_data,len(clean_data))\n"
   ]
  },
  {
   "cell_type": "code",
   "execution_count": 13,
   "metadata": {},
   "outputs": [],
   "source": [
    "file='data,csv'\n",
    "if file.endswith('.txt'):\n",
    "    print('taxt file')\n",
    "if file.endswith('.txt'):\n",
    "    print('csv file')"
   ]
  },
  {
   "cell_type": "code",
   "execution_count": 20,
   "metadata": {},
   "outputs": [
    {
     "name": "stdout",
     "output_type": "stream",
     "text": [
      "12TH (HARSH).jpg\n",
      "JPG_png.jpg\n",
      "RAJYA V SINGH(domicile)_page-0001 (1).jpg\n",
      "RAJYA V SINGH(domicile)_page-0001 (2).jpg\n",
      "RAJYA V SINGH(domicile)_page-0001.jpg\n"
     ]
    }
   ],
   "source": [
    "import os\n",
    "content=os.listdir(r'c:/users/Lenovo/Downloads/')\n",
    "for file in content:\n",
    "    if file.endswith('.jpg'):\n",
    "        print(file)"
   ]
  },
  {
   "cell_type": "markdown",
   "metadata": {},
   "source": [
    "## question thirteen"
   ]
  },
  {
   "cell_type": "code",
   "execution_count": 1,
   "metadata": {},
   "outputs": [
    {
     "name": "stdout",
     "output_type": "stream",
     "text": [
      "#####################\n"
     ]
    }
   ],
   "source": [
    "# print # 20 time withoout loop\n",
    "a=('#')\n",
    "print('#'*21)\n"
   ]
  },
  {
   "cell_type": "markdown",
   "metadata": {},
   "source": [
    "## question fourteen"
   ]
  },
  {
   "cell_type": "code",
   "execution_count": 7,
   "metadata": {},
   "outputs": [
    {
     "name": "stdout",
     "output_type": "stream",
     "text": [
      "1.\n",
      "2.\n",
      "3.\n",
      "4.\n",
      "5.\n",
      "6.\n",
      "7.\n",
      "8.\n",
      "9.\n",
      "10.\n"
     ]
    }
   ],
   "source": [
    "for i in range(1,11):\n",
    "    print(f'{i}.')"
   ]
  },
  {
   "cell_type": "markdown",
   "metadata": {},
   "source": [
    "## question fifteen"
   ]
  },
  {
   "cell_type": "code",
   "execution_count": 9,
   "metadata": {},
   "outputs": [
    {
     "name": "stdout",
     "output_type": "stream",
     "text": [
      "Once\n",
      " upon\n",
      " a\n",
      " time,\n",
      " there\n",
      " was\n",
      " a\n",
      " king.\n",
      " and\n",
      " then\n",
      " king\n",
      " was\n",
      " old,\n",
      " there\n",
      " was\n",
      " king.\n",
      " and\n",
      " the\n",
      " king\n",
      " was\n",
      " old,\n",
      "\n",
      "there\n",
      " was\n",
      " no time for the king\n"
     ]
    }
   ],
   "source": [
    "msg='''Once\\n upon\\n a\\n time,\\n there\\n was\\n a\\n king.\\n and\\n then\\n king\\n was\\n old,\\n there\\n was\\n king.\\n and\\n the\\n king\\n was\\n old,\\n\n",
    "there\\n was\\n no time for the king'''\n",
    "print(msg)"
   ]
  },
  {
   "cell_type": "code",
   "execution_count": 4,
   "metadata": {},
   "outputs": [
    {
     "name": "stdout",
     "output_type": "stream",
     "text": [
      "124\n",
      "O\n",
      "n\n",
      "c\n",
      "e\n"
     ]
    }
   ],
   "source": [
    "msg='Once upon a time, there was a king. and the king was old,there was king. and the king was old,there was no time for the king'\n",
    "print(len(msg))\n",
    "print(msg[0])\n",
    "print(msg[1])\n",
    "print(msg[2])\n",
    "print(msg[3])\n",
    "    \n"
   ]
  },
  {
   "cell_type": "markdown",
   "metadata": {},
   "source": [
    "## question nineteen"
   ]
  },
  {
   "cell_type": "code",
   "execution_count": 5,
   "metadata": {},
   "outputs": [
    {
     "name": "stdout",
     "output_type": "stream",
     "text": [
      "this is not a good strin\n"
     ]
    }
   ],
   "source": [
    "text='   this is not a good strin   '\n",
    "clean_data=text.strip()\n",
    "print(clean_data)"
   ]
  },
  {
   "cell_type": "markdown",
   "metadata": {},
   "source": [
    "## question twenty one"
   ]
  },
  {
   "cell_type": "code",
   "execution_count": 7,
   "metadata": {},
   "outputs": [
    {
     "name": "stdout",
     "output_type": "stream",
     "text": [
      "['yash,yashi,tom,cris,robert']\n"
     ]
    }
   ],
   "source": [
    "name=('yash,yashi,tom,cris,robert')\n",
    "lst=name.split()\n",
    "print(lst)"
   ]
  },
  {
   "cell_type": "markdown",
   "metadata": {},
   "source": [
    "## question twenty four"
   ]
  },
  {
   "cell_type": "code",
   "execution_count": 8,
   "metadata": {},
   "outputs": [
    {
     "name": "stdout",
     "output_type": "stream",
     "text": [
      "%p34@y|*_|t68h#&on4\n"
     ]
    }
   ],
   "source": [
    "taxt=r'%p34@y|*_|t68h#&on4'\n",
    "print(taxt)"
   ]
  },
  {
   "cell_type": "code",
   "execution_count": 3,
   "metadata": {},
   "outputs": [],
   "source": [
    "text = '%p34@y!*-*!t68h#&on404'"
   ]
  },
  {
   "cell_type": "code",
   "execution_count": 4,
   "metadata": {},
   "outputs": [
    {
     "name": "stdout",
     "output_type": "stream",
     "text": [
      "%p34@y!*-*!t68h#&on404\n",
      "python\n"
     ]
    }
   ],
   "source": [
    "clean_text=''\n",
    "for char in text:\n",
    "    # print(char,char.isalpha)\n",
    "    if char.isalpha():\n",
    "        clean_text+=char\n",
    "print(text)\n",
    "print(clean_text)"
   ]
  },
  {
   "cell_type": "code",
   "execution_count": 5,
   "metadata": {},
   "outputs": [
    {
     "name": "stdout",
     "output_type": "stream",
     "text": [
      "python\n"
     ]
    }
   ],
   "source": [
    "from string import punctuation,digits\n",
    "for kachra in punctuation+digits:\n",
    "    text=text.replace(kachra,'') # replacce works as remove when second argument is empty\n",
    "print(text)"
   ]
  },
  {
   "cell_type": "code",
   "execution_count": 7,
   "metadata": {},
   "outputs": [
    {
     "name": "stdout",
     "output_type": "stream",
     "text": [
      "total words: 22\n",
      "total words: 102\n",
      "average word lengh: 4.636363636363637\n"
     ]
    }
   ],
   "source": [
    "para='this is a paragraph which is written just for the purpose of providing content to let the average word length be calculated'\n",
    "print('total words:',len(para.split()))\n",
    "word_count=0\n",
    "for word in para.split():\n",
    "    word_count+=len(word)\n",
    "print('total words:',word_count)\n",
    "print('average word lengh:',word_count/len(para.split()))"
   ]
  },
  {
   "cell_type": "code",
   "execution_count": null,
   "metadata": {},
   "outputs": [],
   "source": []
  }
 ],
 "metadata": {
  "kernelspec": {
   "display_name": "base",
   "language": "python",
   "name": "python3"
  },
  "language_info": {
   "codemirror_mode": {
    "name": "ipython",
    "version": 3
   },
   "file_extension": ".py",
   "mimetype": "text/x-python",
   "name": "python",
   "nbconvert_exporter": "python",
   "pygments_lexer": "ipython3",
   "version": "3.11.5"
  }
 },
 "nbformat": 4,
 "nbformat_minor": 2
}
